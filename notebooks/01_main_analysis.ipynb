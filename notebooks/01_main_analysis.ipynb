{
 "cells": [
  {
   "cell_type": "markdown",
   "id": "14d893e3-d9d2-4dae-a0fa-d95b609f7b72",
   "metadata": {},
   "source": [
    "### Run mathematical sciences analysis"
   ]
  },
  {
   "cell_type": "code",
   "execution_count": 30,
   "id": "bcdc54f2-339c-4ed8-b101-e6869b81a104",
   "metadata": {},
   "outputs": [
    {
     "name": "stdout",
     "output_type": "stream",
     "text": [
      "Importing and pickling Deloitte data...done.\n",
      "Importing and pickling ONS-ASHE tables...done.\n",
      "Importing ONS self-employment job data..done.\n",
      "Computing ONS SOC re-basing relationships...done.\n"
     ]
    }
   ],
   "source": [
    "%run ../src/preprocessing/import_deloitte_data.py\n",
    "%run ../src/preprocessing/import_ASHE_tables.py\n",
    "%run ../src/preprocessing/import_SE_data.py\n",
    "%run ../src/preprocessing/compute_ONS_SOC_relationships.py"
   ]
  },
  {
   "cell_type": "code",
   "execution_count": 31,
   "id": "677acc02-0805-47cb-94ea-52f4c7c447cc",
   "metadata": {},
   "outputs": [
    {
     "name": "stdout",
     "output_type": "stream",
     "text": [
      "Computing alternative SOC re-basing schemes...done.\n"
     ]
    }
   ],
   "source": [
    "%run ../src/compute_all_SOC_maps.py"
   ]
  },
  {
   "cell_type": "code",
   "execution_count": 32,
   "id": "5dab4d7a-8eab-4481-ad6b-92b6e53f1a8d",
   "metadata": {},
   "outputs": [
    {
     "name": "stdout",
     "output_type": "stream",
     "text": [
      "Updating mathematical science workforce from 2010 to 2023...\n",
      "\n",
      "========================================\n",
      "Configuration: A_hourly_FTPT\n",
      "========================================\n",
      "Year\tSOC framework\tWorkforce\n",
      "----------------------------------------\n",
      "2010\tSOC-2000\t2,773,400\n",
      "2011\tSOC-2000\t2,755,312\n",
      "2011\tSOC-2010\t2,755,312\n",
      "2021\tSOC-2010\t3,802,094\n",
      "2021\tSOC-2020\t3,802,094\n",
      "2023\tSOC-2020\t4,355,301\n",
      "\n",
      "========================================\n",
      "Configuration: A_hourly_FT\n",
      "========================================\n",
      "Year\tSOC framework\tWorkforce\n",
      "----------------------------------------\n",
      "2010\tSOC-2000\t2,773,400\n",
      "2011\tSOC-2000\t2,730,593\n",
      "2011\tSOC-2010\t2,730,593\n",
      "2021\tSOC-2010\t3,716,167\n",
      "2021\tSOC-2020\t3,716,167\n",
      "2023\tSOC-2020\t4,334,026\n",
      "\n",
      "========================================\n",
      "Configuration: A_annual_FTPT\n",
      "========================================\n",
      "Year\tSOC framework\tWorkforce\n",
      "----------------------------------------\n",
      "2010\tSOC-2000\t2,773,400\n",
      "2011\tSOC-2000\t2,704,621\n",
      "2011\tSOC-2010\t2,704,621\n",
      "2021\tSOC-2010\t3,737,592\n",
      "2021\tSOC-2020\t3,737,592\n",
      "2023\tSOC-2020\t4,019,061\n",
      "\n",
      "========================================\n",
      "Configuration: A_annual_FT\n",
      "========================================\n",
      "Year\tSOC framework\tWorkforce\n",
      "----------------------------------------\n",
      "2010\tSOC-2000\t2,773,400\n",
      "2011\tSOC-2000\t2,669,359\n",
      "2011\tSOC-2010\t2,669,359\n",
      "2021\tSOC-2010\t3,654,681\n",
      "2021\tSOC-2020\t3,654,681\n",
      "2023\tSOC-2020\t3,947,613\n",
      "\n",
      "========================================\n",
      "Configuration: B_hourly_FTPT\n",
      "========================================\n",
      "Year\tSOC framework\tWorkforce\n",
      "----------------------------------------\n",
      "2010\tSOC-2000\t2,773,400\n",
      "2011\tSOC-2000\t2,755,312\n",
      "2011\tSOC-2010\t2,755,312\n",
      "2021\tSOC-2010\t3,736,481\n",
      "2021\tSOC-2020\t3,736,481\n",
      "2023\tSOC-2020\t4,235,410\n",
      "\n",
      "========================================\n",
      "Configuration: B_hourly_FT\n",
      "========================================\n",
      "Year\tSOC framework\tWorkforce\n",
      "----------------------------------------\n",
      "2010\tSOC-2000\t2,773,400\n",
      "2011\tSOC-2000\t2,730,593\n",
      "2011\tSOC-2010\t2,730,593\n",
      "2021\tSOC-2010\t3,682,227\n",
      "2021\tSOC-2020\t3,682,227\n",
      "2023\tSOC-2020\t4,255,794\n",
      "\n",
      "========================================\n",
      "Configuration: B_annual_FTPT\n",
      "========================================\n",
      "Year\tSOC framework\tWorkforce\n",
      "----------------------------------------\n",
      "2010\tSOC-2000\t2,773,400\n",
      "2011\tSOC-2000\t2,704,621\n",
      "2011\tSOC-2010\t2,704,621\n",
      "2021\tSOC-2010\t3,696,832\n",
      "2021\tSOC-2020\t3,696,832\n",
      "2023\tSOC-2020\t3,945,456\n",
      "\n",
      "========================================\n",
      "Configuration: B_annual_FT\n",
      "========================================\n",
      "Year\tSOC framework\tWorkforce\n",
      "----------------------------------------\n",
      "2010\tSOC-2000\t2,773,400\n",
      "2011\tSOC-2000\t2,669,359\n",
      "2011\tSOC-2010\t2,669,359\n",
      "2021\tSOC-2010\t3,641,290\n",
      "2021\tSOC-2020\t3,641,290\n",
      "2023\tSOC-2020\t3,931,312\n",
      "\n",
      "========================================\n",
      "Configuration: C_hourly_FTPT\n",
      "========================================\n",
      "Year\tSOC framework\tWorkforce\n",
      "----------------------------------------\n",
      "2010\tSOC-2000\t2,773,400\n",
      "2011\tSOC-2000\t2,755,312\n",
      "2011\tSOC-2010\t2,755,312\n",
      "2021\tSOC-2010\t3,774,204\n",
      "2021\tSOC-2020\t3,774,204\n",
      "2023\tSOC-2020\t4,243,684\n",
      "\n",
      "========================================\n",
      "Configuration: C_hourly_FT\n",
      "========================================\n",
      "Year\tSOC framework\tWorkforce\n",
      "----------------------------------------\n",
      "2010\tSOC-2000\t2,773,400\n",
      "2011\tSOC-2000\t2,730,593\n",
      "2011\tSOC-2010\t2,730,593\n",
      "2021\tSOC-2010\t3,673,478\n",
      "2021\tSOC-2020\t3,673,478\n",
      "2023\tSOC-2020\t4,217,225\n",
      "\n",
      "========================================\n",
      "Configuration: C_annual_FTPT\n",
      "========================================\n",
      "Year\tSOC framework\tWorkforce\n",
      "----------------------------------------\n",
      "2010\tSOC-2000\t2,773,400\n",
      "2011\tSOC-2000\t2,704,621\n",
      "2011\tSOC-2010\t2,704,621\n",
      "2021\tSOC-2010\t3,734,417\n",
      "2021\tSOC-2020\t3,734,417\n",
      "2023\tSOC-2020\t3,940,836\n",
      "\n",
      "========================================\n",
      "Configuration: C_annual_FT\n",
      "========================================\n",
      "Year\tSOC framework\tWorkforce\n",
      "----------------------------------------\n",
      "2010\tSOC-2000\t2,773,400\n",
      "2011\tSOC-2000\t2,669,359\n",
      "2011\tSOC-2010\t2,669,359\n",
      "2021\tSOC-2010\t3,624,567\n",
      "2021\tSOC-2020\t3,624,567\n",
      "2023\tSOC-2020\t3,890,596\n",
      "\n",
      "========================================\n",
      "Configuration: equal_hourly_FTPT\n",
      "========================================\n",
      "Year\tSOC framework\tWorkforce\n",
      "----------------------------------------\n",
      "2010\tSOC-2000\t2,773,400\n",
      "2011\tSOC-2000\t2,755,312\n",
      "2011\tSOC-2010\t2,755,312\n",
      "2021\tSOC-2010\t3,819,358\n",
      "2021\tSOC-2020\t3,819,358\n",
      "2023\tSOC-2020\t4,314,627\n",
      "\n",
      "========================================\n",
      "Configuration: equal_hourly_FT\n",
      "========================================\n",
      "Year\tSOC framework\tWorkforce\n",
      "----------------------------------------\n",
      "2010\tSOC-2000\t2,773,400\n",
      "2011\tSOC-2000\t2,730,593\n",
      "2011\tSOC-2010\t2,730,593\n",
      "2021\tSOC-2010\t3,717,706\n",
      "2021\tSOC-2020\t3,717,706\n",
      "2023\tSOC-2020\t4,279,459\n",
      "\n",
      "========================================\n",
      "Configuration: equal_annual_FTPT\n",
      "========================================\n",
      "Year\tSOC framework\tWorkforce\n",
      "----------------------------------------\n",
      "2010\tSOC-2000\t2,773,400\n",
      "2011\tSOC-2000\t2,704,621\n",
      "2011\tSOC-2010\t2,704,621\n",
      "2021\tSOC-2010\t3,739,745\n",
      "2021\tSOC-2020\t3,739,745\n",
      "2023\tSOC-2020\t3,961,907\n",
      "\n",
      "========================================\n",
      "Configuration: equal_annual_FT\n",
      "========================================\n",
      "Year\tSOC framework\tWorkforce\n",
      "----------------------------------------\n",
      "2010\tSOC-2000\t2,773,400\n",
      "2011\tSOC-2000\t2,669,359\n",
      "2011\tSOC-2010\t2,669,359\n",
      "2021\tSOC-2010\t3,650,599\n",
      "2021\tSOC-2020\t3,650,599\n",
      "2023\tSOC-2020\t3,912,683\n",
      "\n",
      "...done.\n"
     ]
    }
   ],
   "source": [
    "%run ../src/estimate_MS_workforce.py"
   ]
  },
  {
   "cell_type": "code",
   "execution_count": 33,
   "id": "ea28c96f-d1a8-4afe-a3ad-a63804b4a25b",
   "metadata": {},
   "outputs": [
    {
     "name": "stdout",
     "output_type": "stream",
     "text": [
      "Estimating GVA contribution from MS workforce estimates...\n"
     ]
    },
    {
     "ename": "FileNotFoundError",
     "evalue": "[Errno 2] No such file or directory: '../data/raw/self-employment/SE_WF_ratios/SE_WF_ratios_2023.csv'",
     "output_type": "error",
     "traceback": [
      "\u001b[0;31m---------------------------------------------------------------------------\u001b[0m",
      "\u001b[0;31mFileNotFoundError\u001b[0m                         Traceback (most recent call last)",
      "\u001b[0;32m~/Cambridge University Dropbox/Vinesh Maguire-Rajpaul/Cambridge/Projects/acadmathsci/deloitte/src/estimate_GVA_from_workforce.py\u001b[0m in \u001b[0;36m<module>\u001b[0;34m\u001b[0m\n\u001b[1;32m     54\u001b[0m     \u001b[0mSE_jobs_vs_SIC\u001b[0m \u001b[0;34m=\u001b[0m \u001b[0mpickle\u001b[0m\u001b[0;34m.\u001b[0m\u001b[0mload\u001b[0m\u001b[0;34m(\u001b[0m\u001b[0minput_file\u001b[0m\u001b[0;34m)\u001b[0m\u001b[0;34m[\u001b[0m\u001b[0mjobs_year\u001b[0m\u001b[0;34m]\u001b[0m\u001b[0;34m\u001b[0m\u001b[0;34m\u001b[0m\u001b[0m\n\u001b[1;32m     55\u001b[0m \u001b[0;34m\u001b[0m\u001b[0m\n\u001b[0;32m---> 56\u001b[0;31m SE_WF_ratios = pd.read_csv(\n\u001b[0m\u001b[1;32m     57\u001b[0m     f'../data/raw/self-employment/SE_WF_ratios/SE_WF_ratios_{jobs_year}.csv')\n\u001b[1;32m     58\u001b[0m \u001b[0;34m\u001b[0m\u001b[0m\n",
      "\u001b[0;32m~/opt/anaconda3/lib/python3.9/site-packages/pandas/util/_decorators.py\u001b[0m in \u001b[0;36mwrapper\u001b[0;34m(*args, **kwargs)\u001b[0m\n\u001b[1;32m    309\u001b[0m                     \u001b[0mstacklevel\u001b[0m\u001b[0;34m=\u001b[0m\u001b[0mstacklevel\u001b[0m\u001b[0;34m,\u001b[0m\u001b[0;34m\u001b[0m\u001b[0;34m\u001b[0m\u001b[0m\n\u001b[1;32m    310\u001b[0m                 )\n\u001b[0;32m--> 311\u001b[0;31m             \u001b[0;32mreturn\u001b[0m \u001b[0mfunc\u001b[0m\u001b[0;34m(\u001b[0m\u001b[0;34m*\u001b[0m\u001b[0margs\u001b[0m\u001b[0;34m,\u001b[0m \u001b[0;34m**\u001b[0m\u001b[0mkwargs\u001b[0m\u001b[0;34m)\u001b[0m\u001b[0;34m\u001b[0m\u001b[0;34m\u001b[0m\u001b[0m\n\u001b[0m\u001b[1;32m    312\u001b[0m \u001b[0;34m\u001b[0m\u001b[0m\n\u001b[1;32m    313\u001b[0m         \u001b[0;32mreturn\u001b[0m \u001b[0mwrapper\u001b[0m\u001b[0;34m\u001b[0m\u001b[0;34m\u001b[0m\u001b[0m\n",
      "\u001b[0;32m~/opt/anaconda3/lib/python3.9/site-packages/pandas/io/parsers/readers.py\u001b[0m in \u001b[0;36mread_csv\u001b[0;34m(filepath_or_buffer, sep, delimiter, header, names, index_col, usecols, squeeze, prefix, mangle_dupe_cols, dtype, engine, converters, true_values, false_values, skipinitialspace, skiprows, skipfooter, nrows, na_values, keep_default_na, na_filter, verbose, skip_blank_lines, parse_dates, infer_datetime_format, keep_date_col, date_parser, dayfirst, cache_dates, iterator, chunksize, compression, thousands, decimal, lineterminator, quotechar, quoting, doublequote, escapechar, comment, encoding, encoding_errors, dialect, error_bad_lines, warn_bad_lines, on_bad_lines, delim_whitespace, low_memory, memory_map, float_precision, storage_options)\u001b[0m\n\u001b[1;32m    584\u001b[0m     \u001b[0mkwds\u001b[0m\u001b[0;34m.\u001b[0m\u001b[0mupdate\u001b[0m\u001b[0;34m(\u001b[0m\u001b[0mkwds_defaults\u001b[0m\u001b[0;34m)\u001b[0m\u001b[0;34m\u001b[0m\u001b[0;34m\u001b[0m\u001b[0m\n\u001b[1;32m    585\u001b[0m \u001b[0;34m\u001b[0m\u001b[0m\n\u001b[0;32m--> 586\u001b[0;31m     \u001b[0;32mreturn\u001b[0m \u001b[0m_read\u001b[0m\u001b[0;34m(\u001b[0m\u001b[0mfilepath_or_buffer\u001b[0m\u001b[0;34m,\u001b[0m \u001b[0mkwds\u001b[0m\u001b[0;34m)\u001b[0m\u001b[0;34m\u001b[0m\u001b[0;34m\u001b[0m\u001b[0m\n\u001b[0m\u001b[1;32m    587\u001b[0m \u001b[0;34m\u001b[0m\u001b[0m\n\u001b[1;32m    588\u001b[0m \u001b[0;34m\u001b[0m\u001b[0m\n",
      "\u001b[0;32m~/opt/anaconda3/lib/python3.9/site-packages/pandas/io/parsers/readers.py\u001b[0m in \u001b[0;36m_read\u001b[0;34m(filepath_or_buffer, kwds)\u001b[0m\n\u001b[1;32m    480\u001b[0m \u001b[0;34m\u001b[0m\u001b[0m\n\u001b[1;32m    481\u001b[0m     \u001b[0;31m# Create the parser.\u001b[0m\u001b[0;34m\u001b[0m\u001b[0;34m\u001b[0m\u001b[0m\n\u001b[0;32m--> 482\u001b[0;31m     \u001b[0mparser\u001b[0m \u001b[0;34m=\u001b[0m \u001b[0mTextFileReader\u001b[0m\u001b[0;34m(\u001b[0m\u001b[0mfilepath_or_buffer\u001b[0m\u001b[0;34m,\u001b[0m \u001b[0;34m**\u001b[0m\u001b[0mkwds\u001b[0m\u001b[0;34m)\u001b[0m\u001b[0;34m\u001b[0m\u001b[0;34m\u001b[0m\u001b[0m\n\u001b[0m\u001b[1;32m    483\u001b[0m \u001b[0;34m\u001b[0m\u001b[0m\n\u001b[1;32m    484\u001b[0m     \u001b[0;32mif\u001b[0m \u001b[0mchunksize\u001b[0m \u001b[0;32mor\u001b[0m \u001b[0miterator\u001b[0m\u001b[0;34m:\u001b[0m\u001b[0;34m\u001b[0m\u001b[0;34m\u001b[0m\u001b[0m\n",
      "\u001b[0;32m~/opt/anaconda3/lib/python3.9/site-packages/pandas/io/parsers/readers.py\u001b[0m in \u001b[0;36m__init__\u001b[0;34m(self, f, engine, **kwds)\u001b[0m\n\u001b[1;32m    809\u001b[0m             \u001b[0mself\u001b[0m\u001b[0;34m.\u001b[0m\u001b[0moptions\u001b[0m\u001b[0;34m[\u001b[0m\u001b[0;34m\"has_index_names\"\u001b[0m\u001b[0;34m]\u001b[0m \u001b[0;34m=\u001b[0m \u001b[0mkwds\u001b[0m\u001b[0;34m[\u001b[0m\u001b[0;34m\"has_index_names\"\u001b[0m\u001b[0;34m]\u001b[0m\u001b[0;34m\u001b[0m\u001b[0;34m\u001b[0m\u001b[0m\n\u001b[1;32m    810\u001b[0m \u001b[0;34m\u001b[0m\u001b[0m\n\u001b[0;32m--> 811\u001b[0;31m         \u001b[0mself\u001b[0m\u001b[0;34m.\u001b[0m\u001b[0m_engine\u001b[0m \u001b[0;34m=\u001b[0m \u001b[0mself\u001b[0m\u001b[0;34m.\u001b[0m\u001b[0m_make_engine\u001b[0m\u001b[0;34m(\u001b[0m\u001b[0mself\u001b[0m\u001b[0;34m.\u001b[0m\u001b[0mengine\u001b[0m\u001b[0;34m)\u001b[0m\u001b[0;34m\u001b[0m\u001b[0;34m\u001b[0m\u001b[0m\n\u001b[0m\u001b[1;32m    812\u001b[0m \u001b[0;34m\u001b[0m\u001b[0m\n\u001b[1;32m    813\u001b[0m     \u001b[0;32mdef\u001b[0m \u001b[0mclose\u001b[0m\u001b[0;34m(\u001b[0m\u001b[0mself\u001b[0m\u001b[0;34m)\u001b[0m\u001b[0;34m:\u001b[0m\u001b[0;34m\u001b[0m\u001b[0;34m\u001b[0m\u001b[0m\n",
      "\u001b[0;32m~/opt/anaconda3/lib/python3.9/site-packages/pandas/io/parsers/readers.py\u001b[0m in \u001b[0;36m_make_engine\u001b[0;34m(self, engine)\u001b[0m\n\u001b[1;32m   1038\u001b[0m             )\n\u001b[1;32m   1039\u001b[0m         \u001b[0;31m# error: Too many arguments for \"ParserBase\"\u001b[0m\u001b[0;34m\u001b[0m\u001b[0;34m\u001b[0m\u001b[0m\n\u001b[0;32m-> 1040\u001b[0;31m         \u001b[0;32mreturn\u001b[0m \u001b[0mmapping\u001b[0m\u001b[0;34m[\u001b[0m\u001b[0mengine\u001b[0m\u001b[0;34m]\u001b[0m\u001b[0;34m(\u001b[0m\u001b[0mself\u001b[0m\u001b[0;34m.\u001b[0m\u001b[0mf\u001b[0m\u001b[0;34m,\u001b[0m \u001b[0;34m**\u001b[0m\u001b[0mself\u001b[0m\u001b[0;34m.\u001b[0m\u001b[0moptions\u001b[0m\u001b[0;34m)\u001b[0m  \u001b[0;31m# type: ignore[call-arg]\u001b[0m\u001b[0;34m\u001b[0m\u001b[0;34m\u001b[0m\u001b[0m\n\u001b[0m\u001b[1;32m   1041\u001b[0m \u001b[0;34m\u001b[0m\u001b[0m\n\u001b[1;32m   1042\u001b[0m     \u001b[0;32mdef\u001b[0m \u001b[0m_failover_to_python\u001b[0m\u001b[0;34m(\u001b[0m\u001b[0mself\u001b[0m\u001b[0;34m)\u001b[0m\u001b[0;34m:\u001b[0m\u001b[0;34m\u001b[0m\u001b[0;34m\u001b[0m\u001b[0m\n",
      "\u001b[0;32m~/opt/anaconda3/lib/python3.9/site-packages/pandas/io/parsers/c_parser_wrapper.py\u001b[0m in \u001b[0;36m__init__\u001b[0;34m(self, src, **kwds)\u001b[0m\n\u001b[1;32m     49\u001b[0m \u001b[0;34m\u001b[0m\u001b[0m\n\u001b[1;32m     50\u001b[0m         \u001b[0;31m# open handles\u001b[0m\u001b[0;34m\u001b[0m\u001b[0;34m\u001b[0m\u001b[0m\n\u001b[0;32m---> 51\u001b[0;31m         \u001b[0mself\u001b[0m\u001b[0;34m.\u001b[0m\u001b[0m_open_handles\u001b[0m\u001b[0;34m(\u001b[0m\u001b[0msrc\u001b[0m\u001b[0;34m,\u001b[0m \u001b[0mkwds\u001b[0m\u001b[0;34m)\u001b[0m\u001b[0;34m\u001b[0m\u001b[0;34m\u001b[0m\u001b[0m\n\u001b[0m\u001b[1;32m     52\u001b[0m         \u001b[0;32massert\u001b[0m \u001b[0mself\u001b[0m\u001b[0;34m.\u001b[0m\u001b[0mhandles\u001b[0m \u001b[0;32mis\u001b[0m \u001b[0;32mnot\u001b[0m \u001b[0;32mNone\u001b[0m\u001b[0;34m\u001b[0m\u001b[0;34m\u001b[0m\u001b[0m\n\u001b[1;32m     53\u001b[0m \u001b[0;34m\u001b[0m\u001b[0m\n",
      "\u001b[0;32m~/opt/anaconda3/lib/python3.9/site-packages/pandas/io/parsers/base_parser.py\u001b[0m in \u001b[0;36m_open_handles\u001b[0;34m(self, src, kwds)\u001b[0m\n\u001b[1;32m    220\u001b[0m         \u001b[0mLet\u001b[0m \u001b[0mthe\u001b[0m \u001b[0mreaders\u001b[0m \u001b[0mopen\u001b[0m \u001b[0mIOHandles\u001b[0m \u001b[0mafter\u001b[0m \u001b[0mthey\u001b[0m \u001b[0mare\u001b[0m \u001b[0mdone\u001b[0m \u001b[0;32mwith\u001b[0m \u001b[0mtheir\u001b[0m \u001b[0mpotential\u001b[0m \u001b[0mraises\u001b[0m\u001b[0;34m.\u001b[0m\u001b[0;34m\u001b[0m\u001b[0;34m\u001b[0m\u001b[0m\n\u001b[1;32m    221\u001b[0m         \"\"\"\n\u001b[0;32m--> 222\u001b[0;31m         self.handles = get_handle(\n\u001b[0m\u001b[1;32m    223\u001b[0m             \u001b[0msrc\u001b[0m\u001b[0;34m,\u001b[0m\u001b[0;34m\u001b[0m\u001b[0;34m\u001b[0m\u001b[0m\n\u001b[1;32m    224\u001b[0m             \u001b[0;34m\"r\"\u001b[0m\u001b[0;34m,\u001b[0m\u001b[0;34m\u001b[0m\u001b[0;34m\u001b[0m\u001b[0m\n",
      "\u001b[0;32m~/opt/anaconda3/lib/python3.9/site-packages/pandas/io/common.py\u001b[0m in \u001b[0;36mget_handle\u001b[0;34m(path_or_buf, mode, encoding, compression, memory_map, is_text, errors, storage_options)\u001b[0m\n\u001b[1;32m    700\u001b[0m         \u001b[0;32mif\u001b[0m \u001b[0mioargs\u001b[0m\u001b[0;34m.\u001b[0m\u001b[0mencoding\u001b[0m \u001b[0;32mand\u001b[0m \u001b[0;34m\"b\"\u001b[0m \u001b[0;32mnot\u001b[0m \u001b[0;32min\u001b[0m \u001b[0mioargs\u001b[0m\u001b[0;34m.\u001b[0m\u001b[0mmode\u001b[0m\u001b[0;34m:\u001b[0m\u001b[0;34m\u001b[0m\u001b[0;34m\u001b[0m\u001b[0m\n\u001b[1;32m    701\u001b[0m             \u001b[0;31m# Encoding\u001b[0m\u001b[0;34m\u001b[0m\u001b[0;34m\u001b[0m\u001b[0m\n\u001b[0;32m--> 702\u001b[0;31m             handle = open(\n\u001b[0m\u001b[1;32m    703\u001b[0m                 \u001b[0mhandle\u001b[0m\u001b[0;34m,\u001b[0m\u001b[0;34m\u001b[0m\u001b[0;34m\u001b[0m\u001b[0m\n\u001b[1;32m    704\u001b[0m                 \u001b[0mioargs\u001b[0m\u001b[0;34m.\u001b[0m\u001b[0mmode\u001b[0m\u001b[0;34m,\u001b[0m\u001b[0;34m\u001b[0m\u001b[0;34m\u001b[0m\u001b[0m\n",
      "\u001b[0;31mFileNotFoundError\u001b[0m: [Errno 2] No such file or directory: '../data/raw/self-employment/SE_WF_ratios/SE_WF_ratios_2023.csv'"
     ]
    }
   ],
   "source": [
    "%run ../src/estimate_GVA_from_workforce.py"
   ]
  },
  {
   "cell_type": "markdown",
   "id": "8776ca8a-9cd4-4095-8c62-636acfd088c8",
   "metadata": {},
   "source": [
    "### Convert notebook to HTML"
   ]
  },
  {
   "cell_type": "code",
   "execution_count": 13,
   "id": "29521488-4a00-4147-8ef5-63b81773cdfa",
   "metadata": {},
   "outputs": [
    {
     "name": "stderr",
     "output_type": "stream",
     "text": [
      "[NbConvertApp] Converting notebook 01_main_analysis.ipynb to html\n",
      "[NbConvertApp] Writing 574655 bytes to 01_main_analysis.html\n"
     ]
    }
   ],
   "source": [
    "%%bash \n",
    "jupyter nbconvert --to html 01_main_analysis.ipynb"
   ]
  },
  {
   "cell_type": "code",
   "execution_count": null,
   "id": "3d1d5eda-5489-4017-9c86-84ca4fd35543",
   "metadata": {},
   "outputs": [],
   "source": []
  }
 ],
 "metadata": {
  "kernelspec": {
   "display_name": "Python 3 (ipykernel)",
   "language": "python",
   "name": "python3"
  },
  "language_info": {
   "codemirror_mode": {
    "name": "ipython",
    "version": 3
   },
   "file_extension": ".py",
   "mimetype": "text/x-python",
   "name": "python",
   "nbconvert_exporter": "python",
   "pygments_lexer": "ipython3",
   "version": "3.9.7"
  }
 },
 "nbformat": 4,
 "nbformat_minor": 5
}
