{
 "cells": [
  {
   "cell_type": "code",
   "execution_count": 4,
   "id": "7b3aa642-184d-4900-83f2-51f2fe708769",
   "metadata": {},
   "outputs": [],
   "source": [
    "import copy\n",
    "import itertools\n",
    "import pickle\n",
    "import warnings\n",
    "\n",
    "import pandas as pd\n",
    "import numpy as np"
   ]
  },
  {
   "cell_type": "code",
   "execution_count": 5,
   "id": "6b531a62-78fa-4a26-a2d1-68aa13d5b0ce",
   "metadata": {},
   "outputs": [],
   "source": [
    "# Load dictionaries corresponding to ASHE tables [ONS]\n",
    "with open('../data/processed/ASHE_dicts_all.pickle', 'rb') as input_file:\n",
    "    ASHE_dicts_all = pickle.load(input_file)\n",
    "    \n",
    "# Load MS job dictionaries\n",
    "with open('../data/processed/MSW_all.pickle', 'rb') as input_file:\n",
    "    MSW_all = pickle.load(input_file)"
   ]
  },
  {
   "cell_type": "code",
   "execution_count": 6,
   "id": "d1d7fd5e-7667-4e0b-aefe-b4de8cd1e90a",
   "metadata": {},
   "outputs": [],
   "source": [
    "# Hourly or annual salary data\n",
    "HRAN = 'annual'\n",
    "\n",
    "# Full-time or part-time workers\n",
    "FTPT = 'FT'\n",
    "\n",
    "# Weight type\n",
    "WEIGHT = 'C'\n",
    "\n",
    "# Specify which MSJ catalogue to use for salary calculations\n",
    "MSW = MSW_all[f'{WEIGHT}_{HRAN}_{FTPT}']"
   ]
  },
  {
   "cell_type": "code",
   "execution_count": 7,
   "id": "5f469d18-434d-4e49-b387-cb3f7151bd6d",
   "metadata": {},
   "outputs": [],
   "source": [
    "hr_to_annual = 1 if HRAN == 'annual' else 37*52 #mean paid hrs worked"
   ]
  },
  {
   "cell_type": "markdown",
   "id": "cb656311-2635-4849-85ff-cd2832ec06d0",
   "metadata": {},
   "source": [
    "## 2011 salaries"
   ]
  },
  {
   "cell_type": "code",
   "execution_count": 8,
   "id": "e899195e-3bca-4e92-9c84-4d421f2a9826",
   "metadata": {},
   "outputs": [],
   "source": [
    "ASHE_dict = ASHE_dicts_all[f'2011r_{HRAN}_{FTPT}']"
   ]
  },
  {
   "cell_type": "code",
   "execution_count": 9,
   "id": "aa72b3c9-d996-4b37-b3b0-7bf82c5320ac",
   "metadata": {},
   "outputs": [],
   "source": [
    "# Difference with and without correction of order £100!\n",
    "SE_correct = False\n",
    "\n",
    "tot_pounds, tot_jobs = 0, 0\n",
    "\n",
    "# NB Deloitte used 2011 salary data\n",
    "for code, n_jobs in zip(MSW['MSW_2011_SOC2010']['SOC'].values,\n",
    "                             MSW['MSW_2011_SOC2010']['MS_jobs'].values):\n",
    "    mean_salary = ASHE_dict['mean_salary'][ASHE_dict['SOC2010_code']==code]\n",
    "    if len(mean_salary)==1 and (not np.isnan(mean_salary[0])):\n",
    "\n",
    "        if SE_correct:\n",
    "            n_jobs *= (1-get_SE_frac_from_SOC2010(code,'2011'))\n",
    "        tot_pounds += mean_salary[0]*n_jobs\n",
    "        tot_jobs+= n_jobs\n",
    "        \n",
    "MS_mean = tot_pounds/tot_jobs*hr_to_annual\n",
    "\n",
    "# UK overall mean salary\n",
    "UK_mean = (np.nansum(ASHE_dict['mean_salary']*ASHE_dict['no_jobs'])/\n",
    "      np.nansum(ASHE_dict['no_jobs'])*hr_to_annual)"
   ]
  },
  {
   "cell_type": "code",
   "execution_count": 10,
   "id": "7bde9a51-559d-477b-8db2-fa47c6ab3327",
   "metadata": {},
   "outputs": [
    {
     "name": "stdout",
     "output_type": "stream",
     "text": [
      "=== 2011 salaries ===\n",
      "\n",
      "MS mean: £42,758; UK mean: £32,663\n",
      "MS premium (mean): 31%\n"
     ]
    }
   ],
   "source": [
    "print('=== 2011 salaries ===\\n')\n",
    "print(f'MS mean: £{MS_mean:,.0f}; UK mean: £{UK_mean:,.0f}')\n",
    "# Ratios for means and medians\n",
    "print(f'MS premium (mean): {100*(MS_mean/UK_mean-1):.0f}%')"
   ]
  },
  {
   "cell_type": "markdown",
   "id": "d1c46144-9e6a-47fe-9611-95277609e9da",
   "metadata": {},
   "source": [
    "## 2023 salaries"
   ]
  },
  {
   "cell_type": "code",
   "execution_count": 11,
   "id": "7e288e14-e90a-45fc-94e0-e20c2689877b",
   "metadata": {},
   "outputs": [],
   "source": [
    "ASHE_dict = ASHE_dicts_all[f'2023p_{HRAN}_{FTPT}']\n",
    "MSW = MSW_all[f'{WEIGHT}_{HRAN}_{FTPT}']"
   ]
  },
  {
   "cell_type": "code",
   "execution_count": 12,
   "id": "df6f8ee8-4e4d-4d7d-a79a-e0ecd770784c",
   "metadata": {},
   "outputs": [],
   "source": [
    "ASHE_dict = ASHE_dicts_all[f'2023p_{HRAN}_{FTPT}']\n",
    "MSW = MSW_all[f'{WEIGHT}_{HRAN}_{FTPT}']\n",
    "\n",
    "soc_codes, ms_jobs =  (MSW['MSW_2023_SOC2020']['SOC'].values, \n",
    "                       MSW['MSW_2023_SOC2020']['MS_jobs'].values)"
   ]
  },
  {
   "cell_type": "markdown",
   "id": "e2bbdcaa-ac1a-4cd3-be6d-064a9a45f35d",
   "metadata": {},
   "source": [
    "### Synthetise salary distributions for 2023 based on ASHE percentiles"
   ]
  },
  {
   "cell_type": "code",
   "execution_count": 13,
   "id": "62c1c7de-51b2-4777-9394-60e427c1b71b",
   "metadata": {},
   "outputs": [],
   "source": [
    "# All percentile levels in ASHE tables\n",
    "pctl_levels_all = ['10', '20', '30', '40', '50', '60', '70', '80', '90']\n",
    "\n",
    "N_samples = 10 # how many synthetic salaries to add for each percentile\n",
    "valid_dist = np.zeros(4)\n",
    "ms_salary_synth = [] # store percentile matched salary samples across all occupations\n",
    "\n",
    "for i, (code, lvls, salaries) in enumerate(zip(\n",
    "    ASHE_dict['SOC2020_code'], ASHE_dict['pctl_lvls'], ASHE_dict['pctl_salaries'])):\n",
    "    curr_synth_dist, multipliers = [], []\n",
    "\n",
    "    if set(lvls) == set(pctl_levels_all): # if all (10-90th) pctls available\n",
    "        valid_dist[0]+=1\n",
    "        curr_pctl_levels = np.copy(pctl_levels_all[0::1])\n",
    "        curr_salary_levels = salaries[0::1]\n",
    "        multiplier = 1\n",
    "    elif set(pctl_levels_all[1:-1]).issubset(set(lvls)): # if 20-80th pctls only\n",
    "        valid_dist[1]+=1\n",
    "        curr_pctl_levels = pctl_levels_all[1:-1:1]\n",
    "        curr_salary_levels = salaries[1:-1:1]\n",
    "        multiplier = 2\n",
    "    elif set(pctl_levels_all[2:-2]).issubset(set(lvls)): # if 30-70th pctls only\n",
    "        valid_dist[2]+=1\n",
    "        curr_pctl_levels = pctl_levels_all[2:-2:1]\n",
    "        curr_salary_levels = salaries[2:-2:1]\n",
    "        multiplier = 3\n",
    "    elif set(pctl_levels_all[3:-3]).issubset(set(lvls)): # if 40-60th pctls only\n",
    "        valid_dist[3]+=1\n",
    "        curr_pctl_levels = pctl_levels_all[3:-3:1]\n",
    "        curr_salary_levels = salaries[3:-3:1]\n",
    "        multiplier = 4\n",
    "    else:\n",
    "        curr_pctl_levels = []\n",
    "        curr_salary_levels = []\n",
    "        multiplier = np.nan\n",
    "\n",
    "    if not np.isnan(multiplier):\n",
    "        multipliers = np.ones(len(curr_pctl_levels))\n",
    "        multipliers[0] = multiplier\n",
    "        multipliers[-1] = multiplier\n",
    "    \n",
    "        \n",
    "    # --- diagnostics ---\n",
    "    # print(curr_salary_levels)\n",
    "    # print(multipliers)\n",
    "    #print(len(curr_salary_levels)-len(multipliers)) # should always be 0\n",
    "    # print(np.sum(multipliers), '|', end='') # should all be 9 or 0\n",
    "    \n",
    "    for j, (salary, mpl) in enumerate(zip(curr_salary_levels, multipliers)):\n",
    "        curr_synth_dist.extend([salary]*int(N_samples*mpl))\n",
    "    \n",
    "    curr_synth_dist = sorted(curr_synth_dist)\n",
    "    \n",
    "    # Optional: adjust synth dist mean to match ONS tabulated mean\n",
    "    ADJUST_MEANS = True\n",
    "    # Can modify <5th/>95th percentiles without affected\n",
    "    # percentile scores in pctl_levels_all (min 10th, max 90th)\n",
    "    MOD_FRAC = 0.05\n",
    "    \n",
    "    if ADJUST_MEANS:\n",
    "        # depending on whether dist is skewed left or right, will need to \n",
    "        # adjust lower (<5th) or upper (>95th) tail of dist\n",
    "        mean_med_ratio = ASHE_dict['mean_salary'][i]/ASHE_dict['median_salary'][i]\n",
    "        if (not np.isnan(mean_med_ratio)):\n",
    "            with warnings.catch_warnings():\n",
    "                warnings.simplefilter(\"ignore\", category=RuntimeWarning)\n",
    "                curr_mean = np.mean(curr_synth_dist)\n",
    "            gamma, N = ASHE_dict['mean_salary'][i]/curr_mean, len(curr_synth_dist)\n",
    "\n",
    "            if mean_med_ratio>1:\n",
    "                slice_start_ix = int((1-MOD_FRAC)*N)\n",
    "                #print(slice_start_ix)\n",
    "                sliced_arr = np.copy(curr_synth_dist[slice_start_ix::])\n",
    "                curr_synth_dist[slice_start_ix::] = sliced_arr*(\n",
    "                    gamma*N*curr_mean - np.sum(curr_synth_dist[0:slice_start_ix]) ) /(\n",
    "                    np.sum(sliced_arr)\n",
    "                    )\n",
    "            elif mean_med_ratio<1:\n",
    "                slice_stop_ix = int(MOD_FRAC*N)\n",
    "                sliced_arr = np.copy(curr_synth_dist[0:slice_stop_ix])\n",
    "                curr_synth_dist[0:slice_stop_ix] = sliced_arr*(\n",
    "                    gamma*N*curr_mean - np.sum(curr_synth_dist[slice_stop_ix::]) ) /(\n",
    "                    np.sum(sliced_arr)\n",
    "                    )\n",
    "            \n",
    "        # --- diagnostics ---\n",
    "        # print(S2023['mean_salary'][i], np.mean(curr_synth_dist)) # <-- should be equal\n",
    "        \n",
    "    # --- diagnostics ---\n",
    "    #print(len(curr_synth_dist)) # should all be length 9*N_samples or 0\n",
    "    \n",
    "    # add samples from the current synthetic dist to overall one if SOC2020 code\n",
    "    # is associated with an MS occupation in 2023\n",
    "    if code in soc_codes:\n",
    "        if len(curr_synth_dist)>0:\n",
    "            ms_salary_synth.extend(np.random.choice(curr_synth_dist, int(\n",
    "                ms_jobs[soc_codes==code].sum())))"
   ]
  },
  {
   "cell_type": "markdown",
   "id": "3f1acf5c-fb62-43d7-8c16-bc9d09bbee7a",
   "metadata": {},
   "source": [
    "### Means and medians from percentile-matching salary distributions"
   ]
  },
  {
   "cell_type": "code",
   "execution_count": 14,
   "id": "8145b23d-9af3-41d7-9a06-02fab31e06f2",
   "metadata": {},
   "outputs": [
    {
     "name": "stdout",
     "output_type": "stream",
     "text": [
      "=== 2023 salaries ===\n",
      "\n",
      "MS median: £45,785; UK median: £34,963\n",
      "MS premium (median): 31%\n",
      "\n",
      "MS mean: £52,081; UK mean: £42,210\n",
      "MS premium (mean): 23%\n"
     ]
    }
   ],
   "source": [
    "# Mathematical sciences\n",
    "\n",
    "MS_med = int(np.median(ms_salary_synth)*hr_to_annual)\n",
    "MS_mean = int(np.mean(ms_salary_synth)*hr_to_annual)\n",
    "\n",
    "# UK wide estimates: mean and median\n",
    "\n",
    "UK_med = ASHE_dict['median_salary'][0]*hr_to_annual\n",
    "UK_mean = ASHE_dict['mean_salary'][0]*hr_to_annual\n",
    "\n",
    "print('=== 2023 salaries ===\\n')\n",
    "\n",
    "print(f'MS median: £{MS_med:,.0f}; UK median: £{UK_med:,.0f}')\n",
    "print(f'MS premium (median): {100*(MS_med/UK_med-1):.0f}%')\n",
    "\n",
    "print(f'\\nMS mean: £{MS_mean:,.0f}; UK mean: £{UK_mean:,.0f}')\n",
    "print(f'MS premium (mean): {100*(MS_mean/UK_mean-1):.0f}%')"
   ]
  },
  {
   "cell_type": "markdown",
   "id": "4c312e54-9641-4b1f-9961-511e7aad3f51",
   "metadata": {},
   "source": [
    "### Convert notebook to HTML"
   ]
  },
  {
   "cell_type": "code",
   "execution_count": 15,
   "id": "58d8d9a1-78ac-42d5-883b-7c9335084dd7",
   "metadata": {},
   "outputs": [
    {
     "name": "stderr",
     "output_type": "stream",
     "text": [
      "[NbConvertApp] Converting notebook 02_salary_analysis.ipynb to html\n",
      "[NbConvertApp] Writing 598369 bytes to 02_salary_analysis.html\n"
     ]
    }
   ],
   "source": [
    "%%bash \n",
    "jupyter nbconvert --to html 02_salary_analysis.ipynb"
   ]
  },
  {
   "cell_type": "code",
   "execution_count": null,
   "id": "090ef8d1-4eca-4557-8624-7c405cbff1bd",
   "metadata": {},
   "outputs": [],
   "source": []
  }
 ],
 "metadata": {
  "kernelspec": {
   "display_name": "Python 3 (ipykernel)",
   "language": "python",
   "name": "python3"
  },
  "language_info": {
   "codemirror_mode": {
    "name": "ipython",
    "version": 3
   },
   "file_extension": ".py",
   "mimetype": "text/x-python",
   "name": "python",
   "nbconvert_exporter": "python",
   "pygments_lexer": "ipython3",
   "version": "3.9.7"
  }
 },
 "nbformat": 4,
 "nbformat_minor": 5
}
