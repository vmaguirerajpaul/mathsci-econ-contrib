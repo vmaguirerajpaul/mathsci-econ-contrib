{
 "cells": [
  {
   "cell_type": "code",
   "execution_count": 1,
   "id": "1aaafd3b-f354-4241-a88c-9d22fa13309d",
   "metadata": {},
   "outputs": [],
   "source": [
    "import pickle\n",
    "\n",
    "import numpy as np\n",
    "import pandas as pd"
   ]
  },
  {
   "cell_type": "code",
   "execution_count": 5,
   "id": "2cd6a951-7244-440c-bfaa-8d0663fb1f45",
   "metadata": {},
   "outputs": [
    {
     "data": {
      "text/plain": [
       "'/Users/vinesh/Cambridge University Dropbox/Vinesh Maguire-Rajpaul/Cambridge/Projects/acadmathsci/deloitte/notebooks'"
      ]
     },
     "execution_count": 5,
     "metadata": {},
     "output_type": "execute_result"
    }
   ],
   "source": [
    "pwd"
   ]
  },
  {
   "cell_type": "code",
   "execution_count": 94,
   "id": "3dd20061-c879-4e26-8531-47546f48e2dd",
   "metadata": {},
   "outputs": [],
   "source": [
    "excel_path = '../data/raw/SE_jobs04sep2024.xls'\n",
    "SE = pd.read_excel(excel_path, sheet_name='1. UK totals',\n",
    "                          header=5)\n",
    "SE.columns = SE.columns.astype(str)"
   ]
  },
  {
   "cell_type": "code",
   "execution_count": 95,
   "id": "cab55f94-638d-4f2c-9b4a-5676679fd262",
   "metadata": {},
   "outputs": [],
   "source": []
  },
  {
   "cell_type": "code",
   "execution_count": 96,
   "id": "323d8f41-0b50-4d21-b72d-6d70d9ddc98e",
   "metadata": {},
   "outputs": [
    {
     "data": {
      "text/plain": [
       "['Mar 23 ', 'Jun 23 ', 'Sep 23 ', 'Dec 23 ']"
      ]
     },
     "execution_count": 96,
     "metadata": {},
     "output_type": "execute_result"
    }
   ],
   "source": [
    "quarters_to_use"
   ]
  },
  {
   "cell_type": "code",
   "execution_count": 97,
   "id": "f299d4a1-90bb-45f2-953b-a63d3ff6b163",
   "metadata": {},
   "outputs": [],
   "source": []
  },
  {
   "cell_type": "code",
   "execution_count": null,
   "id": "d3a5e63e-8b64-4c40-b420-9e0db31d442a",
   "metadata": {},
   "outputs": [],
   "source": []
  },
  {
   "cell_type": "code",
   "execution_count": 105,
   "id": "17312954-19c0-450c-90eb-212e1a3cdc30",
   "metadata": {},
   "outputs": [
    {
     "data": {
      "text/plain": [
       "'023'"
      ]
     },
     "execution_count": 105,
     "metadata": {},
     "output_type": "execute_result"
    }
   ],
   "source": [
    "GVA_year_label"
   ]
  },
  {
   "cell_type": "code",
   "execution_count": 109,
   "id": "4e0901c8-a2c0-4785-aeda-62b513687dd9",
   "metadata": {},
   "outputs": [],
   "source": [
    "SIC_2d_all = [str(code+1).rjust(2,'0') for code in range(99)]\n",
    "\n",
    "SE_jobs_vs_SIC = {}\n",
    "\n",
    "for GVA_year in ['2011','2023']: # compute for 2011, 2023\n",
    "\n",
    "    quarters_all = SE['SIC 2007 division'].values\n",
    "    month_labels = ['Mar', 'Jun', 'Sep', 'Dec']\n",
    "\n",
    "    GVA_year_label = GVA_year[-2::]\n",
    "    quarters_to_use = [f'{q} {GVA_year_label} ' for q in month_labels]\n",
    "    quarters_ixs = [np.where(quarters_all==q)[0][0] for q in quarters_to_use]\n",
    "    SE_jobs = {}\n",
    "\n",
    "    for SIC_2d in SIC_2d_all:\n",
    "        if not SIC_2d in SE.columns.values:\n",
    "            SIC_2d_jobs = np.nan\n",
    "        else:\n",
    "            SIC_2d_jobs = SE[SIC_2d].iloc[quarters_ixs].sum()\n",
    "\n",
    "        SE_jobs[SIC_2d] = SIC_2d_jobs\n",
    "    SE_jobs_vs_SIC[GVA_year] = SE_jobs\n",
    "    \n"
   ]
  },
  {
   "cell_type": "code",
   "execution_count": 112,
   "id": "5872e3d6-0c97-4b19-9ff0-7f580e2b4b12",
   "metadata": {},
   "outputs": [],
   "source": [
    "with open('../data/processed/SE_jobs_vs_SIC.pickle', 'wb') as handle:\n",
    "    pickle.dump(SE_jobs_vs_SIC, handle, protocol=pickle.HIGHEST_PROTOCOL)"
   ]
  },
  {
   "cell_type": "code",
   "execution_count": null,
   "id": "5c372e7f-a1ab-4e59-a5f1-15f80d6b8754",
   "metadata": {},
   "outputs": [],
   "source": []
  }
 ],
 "metadata": {
  "kernelspec": {
   "display_name": "Python 3 (ipykernel)",
   "language": "python",
   "name": "python3"
  },
  "language_info": {
   "codemirror_mode": {
    "name": "ipython",
    "version": 3
   },
   "file_extension": ".py",
   "mimetype": "text/x-python",
   "name": "python",
   "nbconvert_exporter": "python",
   "pygments_lexer": "ipython3",
   "version": "3.9.7"
  }
 },
 "nbformat": 4,
 "nbformat_minor": 5
}
